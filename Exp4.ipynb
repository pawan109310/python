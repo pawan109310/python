{
 "cells": [
  {
   "cell_type": "markdown",
   "metadata": {},
   "source": [
    "### Experiment 04 : To implement a Python program to display file available in the current directory."
   ]
  },
  {
   "cell_type": "code",
   "execution_count": 3,
   "metadata": {},
   "outputs": [
    {
     "name": "stdout",
     "output_type": "stream",
     "text": [
      "Files in the current directory : \n",
      "parth.txt\n",
      "Prac3Exp3.ipynb\n",
      "Prac4Exp4.ipynb\n"
     ]
    }
   ],
   "source": [
    "from pathlib import Path;\n",
    "\n",
    "curr_directory = Path('.');\n",
    "files = [f for f in curr_directory.iterdir() if f.is_file()];\n",
    "print(\"Files in the current directory : \");\n",
    "for file in files : \n",
    "    print(file);"
   ]
  }
 ],
 "metadata": {
  "kernelspec": {
   "display_name": "Python 3",
   "language": "python",
   "name": "python3"
  },
  "language_info": {
   "codemirror_mode": {
    "name": "ipython",
    "version": 3
   },
   "file_extension": ".py",
   "mimetype": "text/x-python",
   "name": "python",
   "nbconvert_exporter": "python",
   "pygments_lexer": "ipython3",
   "version": "3.12.2"
  }
 },
 "nbformat": 4,
 "nbformat_minor": 2
}
