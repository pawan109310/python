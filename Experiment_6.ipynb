{
 "cells": [
  {
   "cell_type": "markdown",
   "id": "afd6506d-e3af-49e5-ab0a-b8973ba54e75",
   "metadata": {},
   "source": [
    "### pawan tatyaso pawar\n",
    "### roll no :- 71\n",
    "### Exp_01"
   ]
  },
  {
   "cell_type": "markdown",
   "id": "8fa62dbe-ac96-46af-ac16-86264a8385c3",
   "metadata": {},
   "source": [
    "### importing "
   ]
  },
  {
   "cell_type": "code",
   "execution_count": 1,
   "id": "b7762db5-ec92-4a09-aee8-ee25cc9d653a",
   "metadata": {},
   "outputs": [],
   "source": [
    "import sqlite3"
   ]
  },
  {
   "cell_type": "markdown",
   "id": "3b685714-8525-4247-a4fa-0b3f4ab59da1",
   "metadata": {},
   "source": [
    "### Connecting to Database"
   ]
  },
  {
   "cell_type": "code",
   "execution_count": 3,
   "id": "63eca624-5ae4-4812-9699-c7351f593ec8",
   "metadata": {},
   "outputs": [],
   "source": [
    "connection = sqlite3.connect ('./genericDatabase.db')\n",
    "cursor = connection.cursor ()"
   ]
  },
  {
   "cell_type": "markdown",
   "id": "6e434683-7a95-4e41-a0a5-6c930178b44b",
   "metadata": {},
   "source": [
    "### Create Table"
   ]
  },
  {
   "cell_type": "code",
   "execution_count": 11,
   "id": "f24f2fab-0d24-4f3c-b4ac-a5ee3dae46a4",
   "metadata": {},
   "outputs": [],
   "source": [
    "cursor.execute('''\n",
    "    CREATE TABLE IF NOT EXISTS students (\n",
    "        id INTEGER PRIMARY KEY AUTOINCREMENT,\n",
    "        name TEXT NOT NULL,\n",
    "        age INTEGER NOT NULL\n",
    "    )\n",
    "''')\n",
    "\n",
    "connection.commit()"
   ]
  },
  {
   "cell_type": "markdown",
   "id": "4ee1654a-6988-4b26-9c35-17238a6f509b",
   "metadata": {},
   "source": [
    "### CRUD Operations"
   ]
  },
  {
   "cell_type": "markdown",
   "id": "db530c05-ba1e-403d-a71e-998fd03dbebe",
   "metadata": {},
   "source": [
    "### Create (Insertion)"
   ]
  },
  {
   "cell_type": "code",
   "execution_count": 12,
   "id": "a9205f8e-89f7-4ff3-a77b-c3ba42aa3f99",
   "metadata": {},
   "outputs": [
    {
     "name": "stdout",
     "output_type": "stream",
     "text": [
      "Record added successfully!\n",
      "Record added successfully!\n"
     ]
    }
   ],
   "source": [
    "def create_student(name, age):\n",
    "    cursor.execute('''\n",
    "        INSERT INTO students (name, age) \n",
    "        VALUES (?, ?)\n",
    "    ''', (name, age))\n",
    "    connection.commit()\n",
    "    print(\"Record added successfully!\")\n",
    "\n",
    "create_student(\"Griffith\", 20)\n",
    "create_student(\"Guts\", 22)"
   ]
  },
  {
   "cell_type": "markdown",
   "id": "2d6594f8-5f0d-4841-a06e-dcfc53cd6029",
   "metadata": {},
   "source": [
    "### Read (Retrieve)"
   ]
  },
  {
   "cell_type": "code",
   "execution_count": 13,
   "id": "0671de2d-d54b-4432-bfd2-5f6492dc34b1",
   "metadata": {},
   "outputs": [
    {
     "name": "stdout",
     "output_type": "stream",
     "text": [
      "Student Records:\n",
      "(1, 'Griffith', 20)\n",
      "(2, 'Guts', 22)\n",
      "(3, 'Griffith', 20)\n",
      "(4, 'Guts', 22)\n"
     ]
    }
   ],
   "source": [
    "def read_students():\n",
    "    cursor.execute('SELECT * FROM students')\n",
    "    rows = cursor.fetchall()\n",
    "    print(\"Student Records:\")\n",
    "    for row in rows:\n",
    "        print(row)\n",
    "\n",
    "read_students()"
   ]
  },
  {
   "cell_type": "markdown",
   "id": "4f62d6da-01e3-43aa-99ae-1b23e996efbd",
   "metadata": {},
   "source": [
    "### Update"
   ]
  },
  {
   "cell_type": "code",
   "execution_count": 16,
   "id": "978a0426-16b6-4082-8935-d7acb04c1517",
   "metadata": {},
   "outputs": [
    {
     "name": "stdout",
     "output_type": "stream",
     "text": [
      "Student age updated successfully!\n",
      "Student Records:\n",
      "(1, 'Griffith', 21)\n",
      "(2, 'Guts', 22)\n",
      "(3, 'Griffith', 20)\n",
      "(4, 'Guts', 22)\n"
     ]
    }
   ],
   "source": [
    "def update_student_age(student_id, new_age):\n",
    "    cursor.execute('''\n",
    "     UPDATE students SET age =? WHERE ID =?    \n",
    "    ''', (new_age,student_id))\n",
    "    connection.commit()\n",
    "    print(\"Student age updated successfully!\")\n",
    "\n",
    "update_student_age(1, 21)  # Updating Alice's age to 21\n",
    "read_students()"
   ]
  },
  {
   "cell_type": "markdown",
   "id": "594ca7ac-12ec-4d4c-b486-8329eddaabbe",
   "metadata": {},
   "source": [
    "### delete"
   ]
  },
  {
   "cell_type": "code",
   "execution_count": 19,
   "id": "4922a76e-7b3b-444f-b452-cca8e524ab5b",
   "metadata": {},
   "outputs": [
    {
     "name": "stdout",
     "output_type": "stream",
     "text": [
      "Student deleted successfully!\n",
      "Student Records:\n",
      "(1, 'Griffith', 21)\n",
      "(3, 'Griffith', 20)\n",
      "(4, 'Guts', 22)\n"
     ]
    }
   ],
   "source": [
    "def delete_student(student_id):\n",
    "    cursor.execute('''\n",
    "\n",
    "       DELETE FROM students where id = ?\n",
    "        \n",
    "    ''', (student_id,))\n",
    "    connection.commit()\n",
    "    print(\"Student deleted successfully!\")\n",
    "\n",
    "delete_student(2)  # Deleting Bob's record\n",
    "read_students()"
   ]
  },
  {
   "cell_type": "markdown",
   "id": "f96cf4eb-d3a1-454c-b959-b688bb1881bd",
   "metadata": {},
   "source": [
    " ### Closing the database connection"
   ]
  },
  {
   "cell_type": "code",
   "execution_count": 20,
   "id": "28070900-4ca5-42c2-9f6d-3e03dc683583",
   "metadata": {},
   "outputs": [],
   "source": [
    "connection.close ()"
   ]
  },
  {
   "cell_type": "code",
   "execution_count": null,
   "id": "3f5f6ee7-50c0-4c5f-b6cd-f1686cf8ca5c",
   "metadata": {},
   "outputs": [],
   "source": []
  }
 ],
 "metadata": {
  "kernelspec": {
   "display_name": "Python 3 (ipykernel)",
   "language": "python",
   "name": "python3"
  },
  "language_info": {
   "codemirror_mode": {
    "name": "ipython",
    "version": 3
   },
   "file_extension": ".py",
   "mimetype": "text/x-python",
   "name": "python",
   "nbconvert_exporter": "python",
   "pygments_lexer": "ipython3",
   "version": "3.11.9"
  }
 },
 "nbformat": 4,
 "nbformat_minor": 5
}
