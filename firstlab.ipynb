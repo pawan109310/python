{
 "cells": [
  {
   "cell_type": "markdown",
   "id": "9f251451-2517-465f-bab7-2d0fbdfeddde",
   "metadata": {},
   "source": [
    "### Strings in Python"
   ]
  },
  {
   "cell_type": "code",
   "execution_count": 1,
   "id": "e52a31c9-928a-4d18-9b0b-1eea815a50d6",
   "metadata": {},
   "outputs": [
    {
     "name": "stdout",
     "output_type": "stream",
     "text": [
      "This is a string\n",
      "This is a string\n",
      "This is a string\n"
     ]
    }
   ],
   "source": [
    "# Assigning string to a variable\n",
    "a = 'This is a string'\n",
    "print (a)\n",
    "b = \"This is a string\"\n",
    "print (b)\n",
    "c= '''This is a string'''\n",
    "print (c)"
   ]
  },
  {
   "cell_type": "markdown",
   "id": "af11fffb-5f29-4d8d-bb36-1e7b55fa8b3c",
   "metadata": {},
   "source": [
    "### Lists in Python"
   ]
  },
  {
   "cell_type": "code",
   "execution_count": 2,
   "id": "65b7eaa6-d0d1-4fa4-a6c7-22d05b418599",
   "metadata": {},
   "outputs": [
    {
     "name": "stdout",
     "output_type": "stream",
     "text": [
      "[1, 'a', 'string', 3]\n",
      "[1, 'a', 'string', 3, 6]\n",
      "[1, 'a', 'string', 3]\n",
      "a\n"
     ]
    }
   ],
   "source": [
    "# Declaring a list\n",
    "L = [1, \"a\" , \"string\" , 1+2]\n",
    "print (L)\n",
    "#Adding an element in the list\n",
    "L.append(6) \n",
    "print (L)\n",
    "#Deleting last element from a list\n",
    "L.pop()\n",
    "print (L)\n",
    "#Displaying Second element of the list\n",
    "print (L[1])\n"
   ]
  },
  {
   "cell_type": "markdown",
   "id": "6d985be0-fe06-499f-b04a-1ef354646680",
   "metadata": {},
   "source": [
    "### Tuples in Python"
   ]
  },
  {
   "cell_type": "code",
   "execution_count": 7,
   "id": "5a7c38d6-4208-47f8-9a28-afd3ccda771e",
   "metadata": {},
   "outputs": [
    {
     "name": "stdout",
     "output_type": "stream",
     "text": [
      "(1, 'a', 'string', 3)\n",
      "a\n"
     ]
    }
   ],
   "source": [
    "tup = (1, \"a\", \"string\", 1+2)\n",
    "print(tup)\n",
    "print(tup[1])"
   ]
  },
  {
   "cell_type": "markdown",
   "id": "3e606fb5-6e76-457d-9e82-a5e46d02ea40",
   "metadata": {},
   "source": [
    "### Dictionaries in Python"
   ]
  },
  {
   "cell_type": "code",
   "execution_count": 8,
   "id": "b2f8cf95-3511-482d-8b78-d4a72dd63158",
   "metadata": {},
   "outputs": [
    {
     "name": "stdout",
     "output_type": "stream",
     "text": [
      "{1: 'Lorem', 2: 'Ipsum', 3: 'Dolerum'}\n"
     ]
    }
   ],
   "source": [
    "d = {1: 'Lorem', 2: 'Ipsum', 3: 'Dolerum'}\n",
    "print(d)"
   ]
  },
  {
   "cell_type": "markdown",
   "id": "eb115c30-41bb-4ea8-a2af-ba9bc3940341",
   "metadata": {},
   "source": [
    "### Create a Dictionary"
   ]
  },
  {
   "cell_type": "code",
   "execution_count": 9,
   "id": "6ff81187-0719-4bf6-87b8-670167bbcf38",
   "metadata": {},
   "outputs": [
    {
     "name": "stdout",
     "output_type": "stream",
     "text": [
      "{1: 'Game', 2: 'of', 3: 'Thrones'}\n",
      "{'a': 'House', 'b': 'of', 'c': 'Cards'}\n"
     ]
    }
   ],
   "source": [
    "# create dictionary using { }\n",
    "d1 = {1: 'Game', 2: 'of', 3: 'Thrones'}\n",
    "print(d1)\n",
    "\n",
    "# create dictionary using dict() constructor\n",
    "d2 = dict(a = \"House\", b = \"of\", c = \"Cards\")\n",
    "print(d2)"
   ]
  },
  {
   "cell_type": "markdown",
   "id": "8e259bf0-bff0-42cc-8765-60da52766d1a",
   "metadata": {},
   "source": [
    " ### Accessing Dictionary Items"
   ]
  },
  {
   "cell_type": "code",
   "execution_count": 10,
   "id": "cadeb2aa-cd3e-4074-adc3-62720c97c0e8",
   "metadata": {},
   "outputs": [
    {
     "name": "stdout",
     "output_type": "stream",
     "text": [
      "Alice\n",
      "Alice\n"
     ]
    }
   ],
   "source": [
    "d = { \"name\": \"Alice\", 1: \"Python\", (1, 2): [1,2,4] }\n",
    "\n",
    "# Access using key\n",
    "print(d[\"name\"])\n",
    "\n",
    "# Access using get()\n",
    "print(d.get(\"name\"))"
   ]
  },
  {
   "cell_type": "markdown",
   "id": "fe1ccecf-e669-4a3c-8014-c6d2ced04e90",
   "metadata": {},
   "source": [
    "### Adding and Updating Dictionary Items"
   ]
  },
  {
   "cell_type": "code",
   "execution_count": 11,
   "id": "757ef153-c43b-4908-bf35-29694b0bb944",
   "metadata": {},
   "outputs": [
    {
     "name": "stdout",
     "output_type": "stream",
     "text": [
      "{1: 'Python dict', 2: 'of', 3: 'Thrones', 'age': 22}\n"
     ]
    }
   ],
   "source": [
    "d = {1: 'Game', 2: 'of', 3: 'Thrones'}\n",
    "\n",
    "# Adding a new key-value pair\n",
    "d[\"age\"] = 22\n",
    "\n",
    "# Updating an existing value\n",
    "d[1] = \"Python dict\"\n",
    "\n",
    "print(d)"
   ]
  },
  {
   "cell_type": "markdown",
   "id": "8ef75d60-553a-4f4e-a85e-e1149c0514d6",
   "metadata": {},
   "source": [
    "### delete dictionary items"
   ]
  },
  {
   "cell_type": "code",
   "execution_count": 12,
   "id": "5a6103ed-783e-488e-8660-2776f8421caa",
   "metadata": {},
   "outputs": [
    {
     "name": "stdout",
     "output_type": "stream",
     "text": [
      "{'a': 1, 'c': 3}\n"
     ]
    }
   ],
   "source": [
    "my_dict = {'a': 1, 'b': 2, 'c': 3}\n",
    "del my_dict['b']\n",
    "print(my_dict)  # Output: {'a': 1, 'c': 3}\n"
   ]
  },
  {
   "cell_type": "code",
   "execution_count": null,
   "id": "99ac908e-b781-4cc2-99db-1819cfc85c34",
   "metadata": {},
   "outputs": [],
   "source": []
  }
 ],
 "metadata": {
  "kernelspec": {
   "display_name": "Python 3 (ipykernel)",
   "language": "python",
   "name": "python3"
  },
  "language_info": {
   "codemirror_mode": {
    "name": "ipython",
    "version": 3
   },
   "file_extension": ".py",
   "mimetype": "text/x-python",
   "name": "python",
   "nbconvert_exporter": "python",
   "pygments_lexer": "ipython3",
   "version": "3.12.8"
  }
 },
 "nbformat": 4,
 "nbformat_minor": 5
}
