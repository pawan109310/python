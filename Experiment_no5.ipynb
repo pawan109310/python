{
 "cells": [
  {
   "cell_type": "markdown",
   "id": "e9b89a75-a590-4ea6-8ec7-e1a21adaa8e3",
   "metadata": {},
   "source": [
    "### pawan tatayso pawar roll_no: 71"
   ]
  },
  {
   "cell_type": "code",
   "execution_count": 1,
   "id": "0e74111d-68f9-4eea-9f0f-e232813586ed",
   "metadata": {},
   "outputs": [
    {
     "name": "stdout",
     "output_type": "stream",
     "text": [
      "Initial Stack\n",
      "['a', 'b', 'c']\n"
     ]
    }
   ],
   "source": [
    "stack = list ()\n",
    "\n",
    "# Append Operation\n",
    "stack.append ('a')\n",
    "stack.append ('b')\n",
    "stack.append ('c')\n",
    "print ('Initial Stack')\n",
    "print (stack)"
   ]
  },
  {
   "cell_type": "code",
   "execution_count": 2,
   "id": "c7cbfed3-9324-4a72-a8a9-15310514c17c",
   "metadata": {},
   "outputs": [
    {
     "name": "stdout",
     "output_type": "stream",
     "text": [
      "c\n",
      "b\n",
      "a\n",
      "[]\n"
     ]
    }
   ],
   "source": [
    "# Pop Operation\n",
    "print (stack.pop ())\n",
    "print (stack.pop ())\n",
    "print (stack.pop ())\n",
    "print (stack)"
   ]
  },
  {
   "cell_type": "code",
   "execution_count": 6,
   "id": "4c63e8e6-4b25-4735-9f51-0bef95429be4",
   "metadata": {},
   "outputs": [
    {
     "name": "stdout",
     "output_type": "stream",
     "text": [
      "3\n",
      "3\n",
      "3\n"
     ]
    }
   ],
   "source": [
    "\n",
    "class StackDepth:\n",
    "    def maximumDepth(self, stringInput: str) -> int:\n",
    "        current_depth = 0\n",
    "        max_depth = 0\n",
    "        for char in stringInput:\n",
    "            if char == '(':  \n",
    "                current_depth += 1\n",
    "                max_depth = max(max_depth, current_depth)  \n",
    "            elif char == ')':  \n",
    "                current_depth -= 1\n",
    "        \n",
    "        return max_depth\n",
    "\n",
    "\n",
    "stack_depth = StackDepth()\n",
    "\n",
    "\n",
    "print(stack_depth.maximumDepth(\"(1+(2*3)+((8)/4))+1\")) \n",
    "print(stack_depth.maximumDepth(\"(1)+((2))+(((3)))\")) \n",
    "print(stack_depth.maximumDepth(\"()(())((()()))\"))  \n"
   ]
  },
  {
   "cell_type": "code",
   "execution_count": null,
   "id": "eafc1e6f-54c5-48d5-b840-3963f2df19c2",
   "metadata": {},
   "outputs": [],
   "source": []
  },
  {
   "cell_type": "code",
   "execution_count": null,
   "id": "5fdc5d1a-e58a-4ec1-a62f-31e0388e8aee",
   "metadata": {},
   "outputs": [],
   "source": []
  }
 ],
 "metadata": {
  "kernelspec": {
   "display_name": "Python 3 (ipykernel)",
   "language": "python",
   "name": "python3"
  },
  "language_info": {
   "codemirror_mode": {
    "name": "ipython",
    "version": 3
   },
   "file_extension": ".py",
   "mimetype": "text/x-python",
   "name": "python",
   "nbconvert_exporter": "python",
   "pygments_lexer": "ipython3",
   "version": "3.11.9"
  }
 },
 "nbformat": 4,
 "nbformat_minor": 5
}
