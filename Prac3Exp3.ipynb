{
 "cells": [
  {
   "cell_type": "markdown",
   "metadata": {},
   "source": [
    "### Experiment 03 ~ To implement a Python program to count the number of lines, words and characters in a file."
   ]
  },
  {
   "cell_type": "code",
   "execution_count": null,
   "metadata": {},
   "outputs": [
    {
     "name": "stdout",
     "output_type": "stream",
     "text": [
      "Lines: 4\n",
      "Words: 21\n",
      "Characters: 123\n"
     ]
    }
   ],
   "source": [
    "if __name__ == '__main__':\n",
    "    with open ('pawan.txt', 'r') as file:\n",
    "        lines = file.readlines ()\n",
    "        numberOfLines = len (lines)\n",
    "        numberOfWords = sum (len (line.split()) for line in lines)\n",
    "        numberOfCharacters = sum(len(line) for line in lines);\n",
    "        \n",
    "    print(f\"Lines: {numberOfLines}\")\n",
    "    print(f\"Words: {numberOfWords}\")\n",
    "    print(f\"Characters: {numberOfCharacters}\")"
   ]
  },
  {
   "cell_type": "markdown",
   "metadata": {},
   "source": []
  }
 ],
 "metadata": {
  "kernelspec": {
   "display_name": "Python 3",
   "language": "python",
   "name": "python3"
  },
  "language_info": {
   "codemirror_mode": {
    "name": "ipython",
    "version": 3
   },
   "file_extension": ".py",
   "mimetype": "text/x-python",
   "name": "python",
   "nbconvert_exporter": "python",
   "pygments_lexer": "ipython3",
   "version": "3.12.2"
  }
 },
 "nbformat": 4,
 "nbformat_minor": 2
}
